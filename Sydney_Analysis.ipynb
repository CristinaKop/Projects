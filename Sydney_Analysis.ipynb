{
 "cells": [
  {
   "cell_type": "markdown",
   "id": "4c769f69",
   "metadata": {},
   "source": [
    "# Sydney Analysis"
   ]
  },
  {
   "cell_type": "markdown",
   "id": "797106b7",
   "metadata": {},
   "source": [
    "## Setup"
   ]
  },
  {
   "cell_type": "code",
   "execution_count": 123,
   "id": "4a37087d",
   "metadata": {},
   "outputs": [],
   "source": [
    "from sqlalchemy import create_engine\n",
    "import psycopg2\n",
    "import psycopg2.extras\n",
    "import json\n",
    "import os\n",
    "import pandas as pd\n",
    "\n",
    "credentials = \"Credentials.json\"\n",
    "\n",
    "def pgconnect(credential_filepath, db_schema=\"public\"):\n",
    "    with open(credential_filepath) as f:\n",
    "        db_conn_dict = json.load(f)\n",
    "        host       = db_conn_dict['host']\n",
    "        db_user    = db_conn_dict['user']\n",
    "        db_pw      = db_conn_dict['password']\n",
    "        default_db = db_conn_dict['user']\n",
    "        try:\n",
    "            db = create_engine('postgresql+psycopg2://'+db_user+':'+db_pw+'@'+host+'/'+default_db, echo=False)\n",
    "            conn = db.connect()\n",
    "            print('Connected successfully.')\n",
    "        except Exception as e:\n",
    "            print(\"Unable to connect to the database.\")\n",
    "            print(e)\n",
    "            db, conn = None, None\n",
    "        return db,conn\n",
    "\n",
    "def query(conn, sqlcmd, args=None, df=True):\n",
    "    result = pd.DataFrame() if df else None\n",
    "    try:\n",
    "        if df:\n",
    "            result = pd.read_sql_query(sqlcmd, conn, params=args)\n",
    "        else:\n",
    "            result = conn.execute(sqlcmd, args).fetchall()\n",
    "            result = result[0] if len(result) == 1 else result\n",
    "    except Exception as e:\n",
    "        print(\"Error encountered: \", e, sep='\\n')\n",
    "    return result"
   ]
  },
  {
   "cell_type": "code",
   "execution_count": 124,
   "id": "4699769a",
   "metadata": {},
   "outputs": [
    {
     "name": "stdout",
     "output_type": "stream",
     "text": [
      "Connected successfully.\n"
     ]
    },
    {
     "data": {
      "text/html": [
       "<div>\n",
       "<style scoped>\n",
       "    .dataframe tbody tr th:only-of-type {\n",
       "        vertical-align: middle;\n",
       "    }\n",
       "\n",
       "    .dataframe tbody tr th {\n",
       "        vertical-align: top;\n",
       "    }\n",
       "\n",
       "    .dataframe thead th {\n",
       "        text-align: right;\n",
       "    }\n",
       "</style>\n",
       "<table border=\"1\" class=\"dataframe\">\n",
       "  <thead>\n",
       "    <tr style=\"text-align: right;\">\n",
       "      <th></th>\n",
       "      <th>postgis_version</th>\n",
       "    </tr>\n",
       "  </thead>\n",
       "  <tbody>\n",
       "    <tr>\n",
       "      <th>0</th>\n",
       "      <td>3.0 USE_GEOS=1 USE_PROJ=1 USE_STATS=1</td>\n",
       "    </tr>\n",
       "  </tbody>\n",
       "</table>\n",
       "</div>"
      ],
      "text/plain": [
       "                         postgis_version\n",
       "0  3.0 USE_GEOS=1 USE_PROJ=1 USE_STATS=1"
      ]
     },
     "execution_count": 124,
     "metadata": {},
     "output_type": "execute_result"
    }
   ],
   "source": [
    "db, conn = pgconnect(credentials)\n",
    "query(conn, \"select PostGIS_Version()\")"
   ]
  },
  {
   "cell_type": "markdown",
   "id": "67559259",
   "metadata": {},
   "source": [
    "### Setting Search Path"
   ]
  },
  {
   "cell_type": "code",
   "execution_count": 125,
   "id": "ef18862a",
   "metadata": {},
   "outputs": [
    {
     "data": {
      "text/plain": [
       "<sqlalchemy.engine.result.ResultProxy at 0x7fada6582c10>"
      ]
     },
     "execution_count": 125,
     "metadata": {},
     "output_type": "execute_result"
    }
   ],
   "source": [
    "conn.execute(\"set search_path to public\")"
   ]
  },
  {
   "cell_type": "markdown",
   "id": "ff0b505a",
   "metadata": {},
   "source": [
    "## Imports"
   ]
  },
  {
   "cell_type": "code",
   "execution_count": 126,
   "id": "40467cb3",
   "metadata": {},
   "outputs": [],
   "source": [
    "import geopandas as gpd\n",
    "import numpy as np\n",
    "from shapely.geometry import Point, Polygon, MultiPolygon\n",
    "from geoalchemy2 import Geometry, WKTElement\n",
    "import matplotlib.pyplot as plt"
   ]
  },
  {
   "cell_type": "markdown",
   "id": "ec38d66c",
   "metadata": {},
   "source": [
    "## Cleaning function for positive columns"
   ]
  },
  {
   "cell_type": "code",
   "execution_count": 127,
   "id": "afe7d6c7",
   "metadata": {},
   "outputs": [],
   "source": [
    "def invalid_col(df, pos_num_columns):\n",
    "    invalid = 1\n",
    "    for i in range(len(pos_num_columns)):\n",
    "        if len(df[df[pos_num_columns[i]] < 0]) > 0:\n",
    "            print(f\"{pos_num_columns[i]} invalid\")\n",
    "            invalid = 0\n",
    "\n",
    "    if invalid == 1:\n",
    "        print(f\"All columns that should have positive numbers have correct data, i.e. {pos_num_columns}\")"
   ]
  },
  {
   "cell_type": "markdown",
   "id": "3d7c05f2",
   "metadata": {},
   "source": [
    "## Reading in and cleaning SA2"
   ]
  },
  {
   "cell_type": "code",
   "execution_count": 128,
   "id": "0225cbc5",
   "metadata": {},
   "outputs": [
    {
     "name": "stdout",
     "output_type": "stream",
     "text": [
      "No duplicated rows\n",
      "No Null values\n",
      "All columns that should have positive numbers have correct data, i.e. ['AREASQKM16']\n"
     ]
    }
   ],
   "source": [
    "SA2 = gpd.read_file(\"SA2/SA2_2016_AUST.shp\")\n",
    "SA2og = SA2.copy()\n",
    "\n",
    "SA2 = SA2[SA2['GCC_NAME16'] == \"Greater Sydney\"]\n",
    "\n",
    "# Testing for duplicate rows\n",
    "if (SA2.duplicated().sum() == 0):\n",
    "    print(\"No duplicated rows\")\n",
    "else:\n",
    "    print(\"Duplicated rows below\")\n",
    "    SA2[SA2.duplicated(keep=False)]\n",
    "    \n",
    "#Testing for Null values\n",
    "if (SA2.isnull().values.any() == False):\n",
    "    print(\"No Null values\")\n",
    "else:\n",
    "    print(\"Null rows below\")\n",
    "    SA2[SA2.isnull().any(axis=1)]\n",
    "\n",
    "pos_num_col = ['AREASQKM16']\n",
    "invalid_col(SA2, pos_num_col) \n",
    "\n",
    "SA2.rename(columns={\n",
    "    'SA2_MAIN16' : 'sa2_main16',\n",
    "    'SA2_5DIG16' : 'sa2_5dig16',\n",
    "    'SA2_NAME16' : 'sa2_name16',\n",
    "    'SA3_CODE16' : 'sa3_code16',\n",
    "    'SA3_NAME16' : 'sa3_name16',\n",
    "    'SA4_CODE16' : 'sa4_code16',\n",
    "    'SA4_NAME16' : 'sa4_name16',\n",
    "    'GCC_CODE16' : 'gcc_code16',\n",
    "    'GCC_NAME16' : 'gcc_name16',\n",
    "    'STE_CODE16' : 'ste_code16',\n",
    "    'STE_NAME16' : 'ste_name16',\n",
    "    'AREASQKM16' : 'areasqkm16'\n",
    "}, inplace = True)\n",
    "\n",
    "SA2['geom'] = SA2['geometry'].apply(lambda x: create_wkt_element(geom=x,srid=srid))  \n",
    "SA2 = SA2.drop(columns=\"geometry\") "
   ]
  },
  {
   "cell_type": "code",
   "execution_count": 134,
   "id": "79ea9bcd",
   "metadata": {},
   "outputs": [],
   "source": [
    "conn.execute(\"\"\"\n",
    "DROP TABLE IF EXISTS sa2 CASCADE;\n",
    "CREATE TABLE sa2 (\n",
    "    sa2_main16 INT UNIQUE,\n",
    "    sa2_5dig16 INT,\n",
    "    sa2_name16 VARCHAR(80) UNIQUE,\n",
    "    sa3_code16 INT,\n",
    "    sa3_name16 VARCHAR(80),\n",
    "    sa4_code16 INT,\n",
    "    sa4_name16 VARCHAR(80),\n",
    "    gcc_code16 CHAR(5),\n",
    "    gcc_name16 VARCHAR(80),\n",
    "    ste_code16 INT,\n",
    "    ste_name16 VARCHAR(80),\n",
    "    areasqkm16 NUMERIC,\n",
    "    geom GEOMETRY(MULTIPOLYGON,4283),\n",
    "    PRIMARY KEY(sa2_main16, sa2_name16)\n",
    ");\"\"\"\n",
    ")\n",
    "\n",
    "SA2.to_sql(\"sa2\", conn, if_exists='append', index=False, dtype={'geom': Geometry('MULTIPOLYGON', srid)})"
   ]
  },
  {
   "cell_type": "markdown",
   "id": "c83ee0bb",
   "metadata": {},
   "source": [
    "## Reading in and Cleaning Neighbourhoods"
   ]
  },
  {
   "cell_type": "code",
   "execution_count": 130,
   "id": "4ff6772d",
   "metadata": {},
   "outputs": [
    {
     "name": "stdout",
     "output_type": "stream",
     "text": [
      "No duplicated rows\n",
      "No Null values\n"
     ]
    }
   ],
   "source": [
    "rawData = pd.read_csv('Neighbourhoods.csv', thousands=',')\n",
    "neighbours_data = rawData.copy()\n",
    "\n",
    "# Replace whitespace with 0\n",
    "neighbours_data = neighbours_data.replace(r'^\\s*$', 0, regex=True)\n",
    "\n",
    "# Confirm data format\n",
    "neighbours_data[pd.to_numeric(neighbours_data[\"population\"], errors='coerce').isnull()]\n",
    "neighbours_data['young_people'] = neighbours_data.iloc[:, -4:-1].sum(axis=1)\n",
    "\n",
    "neighbours_data = neighbours_data.drop(neighbours_data.columns[[0, 9, 10, 11, 12]], axis=1)  # df.columns is zero-based pd.Index\n",
    "neighbours_data = neighbours_data.loc[neighbours_data['population'] > 500]\n",
    "neighbours_data = neighbours_data.loc[neighbours_data['young_people'] > 0]\n",
    "\n",
    "#Testing for duplicate rows\n",
    "if (neighbours_data.duplicated().sum() == 0):\n",
    "    print(\"No duplicated rows\")\n",
    "else:\n",
    "    print(\"Duplicated rows below\")\n",
    "    neighbours_data[neighbours_data.duplicated(keep=False)]\n",
    "\n",
    "    \n",
    "#Testing for Null values\n",
    "if (neighbours_data.isnull().values.any() == False):\n",
    "    print(\"No Null values\")\n",
    "else:\n",
    "    print(\"Null rows below\")\n",
    "    neighbours_data[neighbours_data.isnull().any(axis=1)]\n",
    "    \n",
    "neighbours_data = neighbours_data[neighbours_data['area_id'].isin(SA2['sa2_main16'])]\n"
   ]
  },
  {
   "cell_type": "code",
   "execution_count": 135,
   "id": "a843bec6",
   "metadata": {},
   "outputs": [],
   "source": [
    "conn.execute(\"\"\"\n",
    "DROP TABLE IF EXISTS neighbours CASCADE;\n",
    "CREATE TABLE neighbours (\n",
    "    area_id INT REFERENCES sa2(sa2_main16),\n",
    "    area_name VARCHAR(50) REFERENCES sa2(sa2_name16),\n",
    "    land_area NUMERIC,\n",
    "    population INT,\n",
    "    number_of_dwellings INT,\n",
    "    number_of_businesses INT,\n",
    "    median_annual_household_income INT,\n",
    "    avg_monthly_rent INT,\n",
    "    young_people NUMERIC,\n",
    "    PRIMARY KEY(area_id, area_name)\n",
    ");\"\"\"\n",
    ")\n",
    "\n",
    "neighbours_data.to_sql(\"neighbours\", conn, if_exists='append', index=False)"
   ]
  },
  {
   "cell_type": "markdown",
   "id": "e5125a68",
   "metadata": {},
   "source": [
    "## Reading in and Cleaning Business Stats"
   ]
  },
  {
   "cell_type": "code",
   "execution_count": 136,
   "id": "de6814d1",
   "metadata": {},
   "outputs": [],
   "source": [
    "busStatRaw = pd.read_csv('BusinessStats.csv')\n",
    "busStat = busStatRaw.copy()"
   ]
  },
  {
   "cell_type": "markdown",
   "id": "3d727eb1",
   "metadata": {},
   "source": [
    "Check for duplicates; any NaN values; if counts have any negative values (which would be invalid)"
   ]
  },
  {
   "cell_type": "code",
   "execution_count": 137,
   "id": "ee16663b",
   "metadata": {},
   "outputs": [
    {
     "name": "stdout",
     "output_type": "stream",
     "text": [
      "No duplicated rows\n",
      "No Null values\n",
      "All columns that should have positive numbers have correct data, i.e. ['number_of_businesses', 'accommodation_and_food_services', 'retail_trade', 'agriculture_forestry_and_fishing', 'health_care_and_social_assistance', 'public_administration_and_safety', 'transport_postal_and_warehousing']\n"
     ]
    }
   ],
   "source": [
    "#Testing for duplicate rows\n",
    "\n",
    "if (busStat.duplicated().sum() == 0):\n",
    "    print(\"No duplicated rows\")\n",
    "else:\n",
    "    print(\"Duplicated rows below\")\n",
    "    busStat[busStat.duplicated(keep=False)]\n",
    "    \n",
    "#Testing for Null values\n",
    "if (busStat.isnull().values.any() == False):\n",
    "    print(\"No Null values\")\n",
    "else:\n",
    "    print(\"Null rows below\")\n",
    "    busStat[busStat.isnull().any(axis=1)]\n",
    "    \n",
    "\n",
    "#Testing for inproper data ranges\n",
    "pos_num_columns = ['number_of_businesses',\n",
    "           'accommodation_and_food_services',\n",
    "           'retail_trade',\n",
    "           'agriculture_forestry_and_fishing',\n",
    "           'health_care_and_social_assistance',\n",
    "           'public_administration_and_safety',\n",
    "           'transport_postal_and_warehousing']\n",
    "\n",
    "invalid_col(busStat, pos_num_columns)\n",
    "\n",
    "columns_to_drop = ['number_of_businesses', \n",
    "                   'agriculture_forestry_and_fishing',\n",
    "                   'transport_postal_and_warehousing']\n",
    "\n",
    "busStat = busStat.drop(columns = columns_to_drop)\n",
    "\n",
    "busStat = busStat[busStat['area_id'].isin(SA2['sa2_main16'])]\n"
   ]
  },
  {
   "cell_type": "code",
   "execution_count": 138,
   "id": "838c4749",
   "metadata": {},
   "outputs": [],
   "source": [
    "conn.execute(\"\"\"\n",
    "DROP TABLE IF EXISTS busstat;\n",
    "CREATE TABLE busstat (\n",
    "    area_id INT REFERENCES sa2(sa2_main16),\n",
    "    area_name VARCHAR(80) REFERENCES sa2(sa2_name16),\n",
    "    accommodation_and_food_services INT,\n",
    "    retail_trade INT,\n",
    "    health_care_and_social_assistance INT,\n",
    "    public_administration_and_safety INT,\n",
    "    PRIMARY KEY(area_id, area_name)\n",
    ");\"\"\"\n",
    ")\n",
    "\n",
    "busStat.to_sql(\"busstat\", con=conn, if_exists='append', index=False)"
   ]
  },
  {
   "cell_type": "markdown",
   "id": "677c3f98",
   "metadata": {},
   "source": [
    "## WKT conversion"
   ]
  },
  {
   "cell_type": "code",
   "execution_count": 139,
   "id": "8ffeba98",
   "metadata": {},
   "outputs": [],
   "source": [
    "srid = 4283\n",
    "def create_wkt_element(geom, srid):\n",
    "    if geom.geom_type == 'Polygon':\n",
    "        geom = MultiPolygon([geom])\n",
    "    if geom.geom_type == 'Point Z':\n",
    "        geom = Point([geom])\n",
    "    return WKTElement(geom.wkt, srid)"
   ]
  },
  {
   "cell_type": "markdown",
   "id": "6a6913f0",
   "metadata": {},
   "source": [
    "## Reading in and cleaning Break and Enter"
   ]
  },
  {
   "cell_type": "code",
   "execution_count": 140,
   "id": "72c0640e",
   "metadata": {},
   "outputs": [
    {
     "name": "stdout",
     "output_type": "stream",
     "text": [
      "No duplicated rows\n",
      "No Null values\n",
      "All columns that should have positive numbers have correct data, i.e. ['Shape_Leng', 'Shape_Area']\n"
     ]
    }
   ],
   "source": [
    "bAndE_dwellings = gpd.read_file(\"Break_and_Enter/BreakEnterDwelling_JanToDec2021.shp\")\n",
    "bAndE_dwellingsog = bAndE_dwellings.copy()\n",
    "\n",
    "#Testing for duplicate rows\n",
    "if (bAndE_dwellings.duplicated().sum() == 0):\n",
    "    print(\"No duplicated rows\")\n",
    "else:\n",
    "    print(\"Duplicated rows below\")\n",
    "    bAndE_dwellings[bAndE_dwellings.duplicated(keep=False)]\n",
    "\n",
    "    \n",
    "#Testing for Null values\n",
    "if (bAndE_dwellings.isnull().values.any() == False):\n",
    "    print(\"No Null values\")\n",
    "else:\n",
    "    print(\"Null rows below\")\n",
    "    bAndE_dwellings[bAndE_dwellings.isnull().any(axis=1)]\n",
    "    \n",
    "pos_num_columns = ['Shape_Leng', 'Shape_Area']\n",
    "invalid_col(bAndE_dwellings, pos_num_columns)\n",
    "\n",
    "columns_to_drop = ['ORIG_FID', 'Contour']\n",
    "bAndE_dwellings = bAndE_dwellings.drop(columns = columns_to_drop)\n",
    "bAndE_dwellings['geom'] = bAndE_dwellings['geometry'].apply(lambda x: create_wkt_element(geom=x,srid=srid))  \n",
    "bAndE_dwellings = bAndE_dwellings.drop(columns=\"geometry\") "
   ]
  },
  {
   "cell_type": "code",
   "execution_count": 141,
   "id": "09e5d078",
   "metadata": {
    "scrolled": true
   },
   "outputs": [],
   "source": [
    "bAndE_dwellings.rename(columns={\n",
    "    'OBJECTID' : 'objectid',\n",
    "    'Density' : 'density',\n",
    "    'Shape_Leng' : 'shape_leng',\n",
    "    'Shape_Area' : 'shape_area'\n",
    "}, inplace = True)\n",
    "\n",
    "conn.execute(\"\"\"\n",
    "DROP TABLE IF EXISTS breakenter CASCADE;\n",
    "CREATE TABLE breakenter (\n",
    "    objectid INT PRIMARY KEY,\n",
    "    density VARCHAR(30),\n",
    "    shape_leng NUMERIC,\n",
    "    shape_area NUMERIC,\n",
    "    geom GEOMETRY(MULTIPOLYGON,4283)\n",
    ");\"\"\"\n",
    ")\n",
    "\n",
    "bAndE_dwellings.to_sql(\"breakenter\", conn, if_exists='append', index=False, dtype={'geom': Geometry('MULTIPOLYGON', srid)})\n"
   ]
  },
  {
   "cell_type": "markdown",
   "id": "04944e85",
   "metadata": {},
   "source": [
    "## Reading In and Cleaning Catchments"
   ]
  },
  {
   "cell_type": "markdown",
   "id": "5b673c5e",
   "metadata": {},
   "source": [
    "### Primary Catchments"
   ]
  },
  {
   "cell_type": "code",
   "execution_count": 142,
   "id": "180182ed",
   "metadata": {},
   "outputs": [
    {
     "name": "stdout",
     "output_type": "stream",
     "text": [
      "No duplicated rows\n",
      "No Null values\n"
     ]
    }
   ],
   "source": [
    "catchments_primary = gpd.read_file(\"Catchments/catchments_primary.shp\")\n",
    "\n",
    "primary = catchments_primary.copy()\n",
    "primary['geom'] = primary['geometry'].apply(lambda x: create_wkt_element(geom=x,srid=srid))  \n",
    "\n",
    "columns_to_drop = ['ADD_DATE', 'KINDERGART', 'YEAR1', 'YEAR2', 'YEAR3', 'YEAR4',\n",
    "                   'YEAR5', 'YEAR6', 'YEAR7', 'YEAR8', 'YEAR9', 'YEAR10', 'YEAR11',\n",
    "                   'YEAR12', 'PRIORITY', 'CATCH_TYPE', 'USE_DESC', 'geometry']\n",
    "\n",
    "primary = primary.drop(columns=columns_to_drop) \n",
    "\n",
    "#Testing for duplicate rows\n",
    "if (primary.duplicated().sum() == 0):\n",
    "    print(\"No duplicated rows\")\n",
    "else:\n",
    "    print(\"Duplicated rows below\")\n",
    "    primary[primary.duplicated(keep=False)]\n",
    "\n",
    "    \n",
    "#Testing for Null values\n",
    "if (primary.isnull().values.any() == False):\n",
    "    print(\"No Null values\")\n",
    "else:\n",
    "    print(\"Null rows below\")\n",
    "    primary[primary.isnull().any(axis=1)]\n",
    "    \n",
    "primary\n",
    "\n",
    "primary.rename(columns = {'USE_ID' : 'use_id'}, inplace =True)\n",
    "\n",
    "conn.execute(\"\"\"\n",
    "DROP TABLE IF EXISTS primary_catchments CASCADE;\n",
    "CREATE TABLE primary_catchments (\n",
    "    use_id INT PRIMARY KEY,\n",
    "    geom GEOMETRY(MULTIPOLYGON,4283)\n",
    ");\"\"\")\n",
    "\n",
    "primary.to_sql(\"primary_catchments\", conn, if_exists='append', index=False, dtype={'geom': Geometry('MULTIPOLYGON', srid)})"
   ]
  },
  {
   "cell_type": "markdown",
   "id": "8900b14e",
   "metadata": {},
   "source": [
    "### Secondary Catchments"
   ]
  },
  {
   "cell_type": "code",
   "execution_count": 143,
   "id": "b63b839d",
   "metadata": {},
   "outputs": [
    {
     "name": "stdout",
     "output_type": "stream",
     "text": [
      "No duplicated rows\n",
      "No Null values\n"
     ]
    }
   ],
   "source": [
    "catchments_secondary = gpd.read_file(\"Catchments/catchments_secondary.shp\")\n",
    "secondary = catchments_secondary.copy()\n",
    "secondary['geom'] = secondary['geometry'].apply(lambda x: create_wkt_element(geom=x,srid=srid))  \n",
    "secondary = secondary.drop(columns=columns_to_drop) \n",
    "\n",
    "#Testing for duplicate rows\n",
    "if (secondary.duplicated().sum() == 0):\n",
    "    print(\"No duplicated rows\")\n",
    "else:\n",
    "    print(\"Duplicated rows below\")\n",
    "    secondary[secondary.duplicated(keep=False)]\n",
    "\n",
    "    \n",
    "#Testing for Null values\n",
    "if (secondary.isnull().values.any() == False):\n",
    "    print(\"No Null values\")\n",
    "else:\n",
    "    print(\"Null rows below\")\n",
    "    secondary[secondary.isnull().any(axis=1)]\n",
    "    \n",
    "secondary.rename(columns = {'USE_ID' : 'use_id'}, inplace =True)\n",
    "\n",
    "conn.execute(\"\"\"\n",
    "DROP TABLE IF EXISTS secondary_catchments CASCADE;\n",
    "CREATE TABLE secondary_catchments (\n",
    "    use_id INT PRIMARY KEY,\n",
    "    geom GEOMETRY(MULTIPOLYGON,4283)\n",
    ");\"\"\")\n",
    "\n",
    "secondary.to_sql(\"secondary_catchments\", conn, if_exists='append', index=False, dtype={'geom': Geometry('MULTIPOLYGON', srid)})"
   ]
  },
  {
   "cell_type": "markdown",
   "id": "b3cee27e",
   "metadata": {},
   "source": [
    "### Future Catchments"
   ]
  },
  {
   "cell_type": "code",
   "execution_count": 144,
   "id": "11d4eece",
   "metadata": {},
   "outputs": [
    {
     "name": "stdout",
     "output_type": "stream",
     "text": [
      "No duplicated rows\n",
      "No Null values\n"
     ]
    }
   ],
   "source": [
    "catchments_future = gpd.read_file(\"Catchments/catchments_future.shp\")\n",
    "future = catchments_future.copy()\n",
    "future['geom'] = future['geometry'].apply(lambda x: create_wkt_element(geom=x,srid=srid))\n",
    "columns_to_drop.remove(\"PRIORITY\")\n",
    "future = future.drop(columns=columns_to_drop) \n",
    "\n",
    "#Testing for duplicate rows\n",
    "if (future.duplicated().sum() == 0):\n",
    "    print(\"No duplicated rows\")\n",
    "else:\n",
    "    print(\"Duplicated rows below\")\n",
    "    future[future.duplicated(keep=False)]\n",
    "\n",
    "    \n",
    "#Testing for Null values\n",
    "if (future.isnull().values.any() == False):\n",
    "    print(\"No Null values\")\n",
    "else:\n",
    "    print(\"Null rows below\")\n",
    "    future[future.isnull().any(axis=1)]\n",
    "    \n",
    "future.rename(columns = {'USE_ID' : 'use_id'}, inplace =True)\n",
    "\n",
    "conn.execute(\"\"\"\n",
    "DROP TABLE IF EXISTS future_catchments CASCADE;\n",
    "CREATE TABLE future_catchments (\n",
    "    use_id INT PRIMARY KEY,\n",
    "    geom GEOMETRY(MULTIPOLYGON,4283)\n",
    ");\"\"\")\n",
    "\n",
    "future.to_sql(\"future_catchments\", conn, if_exists='append', index=False, dtype={'geom': Geometry('MULTIPOLYGON', srid)})"
   ]
  },
  {
   "cell_type": "markdown",
   "id": "887ae425",
   "metadata": {},
   "source": [
    "## Creating Indexes"
   ]
  },
  {
   "cell_type": "code",
   "execution_count": 145,
   "id": "7290dee5",
   "metadata": {},
   "outputs": [
    {
     "data": {
      "text/plain": [
       "<sqlalchemy.engine.result.ResultProxy at 0x7fada1e51410>"
      ]
     },
     "execution_count": 145,
     "metadata": {},
     "output_type": "execute_result"
    }
   ],
   "source": [
    "conn.execute(\"\"\"\n",
    "DROP INDEX IF EXISTS suburb_idx;\n",
    "CREATE INDEX suburb_idx ON sa2 USING GIST (geom);\n",
    "\"\"\")\n",
    "\n",
    "conn.execute(\"\"\"\n",
    "DROP INDEX IF EXISTS density_idx;\n",
    "CREATE INDEX density_idx ON breakenter(density);\n",
    "\"\"\")"
   ]
  },
  {
   "cell_type": "markdown",
   "id": "b4d835b7",
   "metadata": {},
   "source": [
    "## Getting z score for crime"
   ]
  },
  {
   "cell_type": "code",
   "execution_count": 146,
   "id": "2324df08",
   "metadata": {},
   "outputs": [
    {
     "name": "stdout",
     "output_type": "stream",
     "text": [
      "Error encountered: \n",
      "This result object does not return rows. It has been closed automatically.\n"
     ]
    },
    {
     "data": {
      "text/html": [
       "<div>\n",
       "<style scoped>\n",
       "    .dataframe tbody tr th:only-of-type {\n",
       "        vertical-align: middle;\n",
       "    }\n",
       "\n",
       "    .dataframe tbody tr th {\n",
       "        vertical-align: top;\n",
       "    }\n",
       "\n",
       "    .dataframe thead th {\n",
       "        text-align: right;\n",
       "    }\n",
       "</style>\n",
       "<table border=\"1\" class=\"dataframe\">\n",
       "  <thead>\n",
       "    <tr style=\"text-align: right;\">\n",
       "      <th></th>\n",
       "    </tr>\n",
       "  </thead>\n",
       "  <tbody>\n",
       "  </tbody>\n",
       "</table>\n",
       "</div>"
      ],
      "text/plain": [
       "Empty DataFrame\n",
       "Columns: []\n",
       "Index: []"
      ]
     },
     "execution_count": 146,
     "metadata": {},
     "output_type": "execute_result"
    }
   ],
   "source": [
    "query(conn, \"\"\"\n",
    "    DROP VIEW IF EXISTS CrimeCount CASCADE;\n",
    "    CREATE VIEW CrimeCount AS\n",
    "    SELECT sa2_name16,\n",
    "        CASE\n",
    "          WHEN density = 'Low Density' THEN 1.0\n",
    "          WHEN density = 'Medium Density' THEN 2.0\n",
    "          WHEN density = 'High Density' THEN 3.0\n",
    "          ELSE 0.0\n",
    "        END AS \"crime\"\n",
    "    FROM sa2 s \n",
    "        LEFT OUTER JOIN breakenter b ON ST_INTERSECTS(s.geom, b.geom)\"\"\")"
   ]
  },
  {
   "cell_type": "code",
   "execution_count": 147,
   "id": "1bb9ce25",
   "metadata": {},
   "outputs": [
    {
     "name": "stdout",
     "output_type": "stream",
     "text": [
      "Error encountered: \n",
      "This result object does not return rows. It has been closed automatically.\n"
     ]
    },
    {
     "data": {
      "text/html": [
       "<div>\n",
       "<style scoped>\n",
       "    .dataframe tbody tr th:only-of-type {\n",
       "        vertical-align: middle;\n",
       "    }\n",
       "\n",
       "    .dataframe tbody tr th {\n",
       "        vertical-align: top;\n",
       "    }\n",
       "\n",
       "    .dataframe thead th {\n",
       "        text-align: right;\n",
       "    }\n",
       "</style>\n",
       "<table border=\"1\" class=\"dataframe\">\n",
       "  <thead>\n",
       "    <tr style=\"text-align: right;\">\n",
       "      <th></th>\n",
       "    </tr>\n",
       "  </thead>\n",
       "  <tbody>\n",
       "  </tbody>\n",
       "</table>\n",
       "</div>"
      ],
      "text/plain": [
       "Empty DataFrame\n",
       "Columns: []\n",
       "Index: []"
      ]
     },
     "execution_count": 147,
     "metadata": {},
     "output_type": "execute_result"
    }
   ],
   "source": [
    "query(conn, \"\"\"\n",
    "    DROP VIEW IF EXISTS CrimeTotal CASCADE;\n",
    "    CREATE VIEW CrimeTotal AS\n",
    "    SELECT sa2_name16, sa3_name16, \n",
    "        (SELECT SUM(crime) / AVG(n.land_area) \n",
    "         FROM CrimeCount c JOIN neighbours n ON c.sa2_name16 = n.area_name\n",
    "         WHERE sa2.sa2_name16 = c.sa2_name16) AS \"crime_count\"\n",
    "    FROM sa2\"\"\")"
   ]
  },
  {
   "cell_type": "code",
   "execution_count": 148,
   "id": "beee87f4",
   "metadata": {},
   "outputs": [
    {
     "name": "stdout",
     "output_type": "stream",
     "text": [
      "Error encountered: \n",
      "This result object does not return rows. It has been closed automatically.\n"
     ]
    },
    {
     "data": {
      "text/html": [
       "<div>\n",
       "<style scoped>\n",
       "    .dataframe tbody tr th:only-of-type {\n",
       "        vertical-align: middle;\n",
       "    }\n",
       "\n",
       "    .dataframe tbody tr th {\n",
       "        vertical-align: top;\n",
       "    }\n",
       "\n",
       "    .dataframe thead th {\n",
       "        text-align: right;\n",
       "    }\n",
       "</style>\n",
       "<table border=\"1\" class=\"dataframe\">\n",
       "  <thead>\n",
       "    <tr style=\"text-align: right;\">\n",
       "      <th></th>\n",
       "    </tr>\n",
       "  </thead>\n",
       "  <tbody>\n",
       "  </tbody>\n",
       "</table>\n",
       "</div>"
      ],
      "text/plain": [
       "Empty DataFrame\n",
       "Columns: []\n",
       "Index: []"
      ]
     },
     "execution_count": 148,
     "metadata": {},
     "output_type": "execute_result"
    }
   ],
   "source": [
    "query(conn, \"\"\"\n",
    "    DROP VIEW IF EXISTS Crime_z CASCADE;\n",
    "    CREATE VIEW Crime_z AS\n",
    "    SELECT sa2_name16, sa3_name16,\n",
    "    (crime_count - (SELECT AVG(crime_count) FROM CrimeTotal)) / ((SELECT STDDEV(crime_count) FROM CrimeTotal)) AS \"crime_z\"\n",
    "    FROM CrimeTotal\n",
    "\"\"\")"
   ]
  },
  {
   "cell_type": "markdown",
   "id": "b0ca675a",
   "metadata": {},
   "source": [
    "## Creating View for all the Business Stats"
   ]
  },
  {
   "cell_type": "code",
   "execution_count": 149,
   "id": "9489a763",
   "metadata": {},
   "outputs": [
    {
     "name": "stdout",
     "output_type": "stream",
     "text": [
      "Error encountered: \n",
      "This result object does not return rows. It has been closed automatically.\n"
     ]
    },
    {
     "data": {
      "text/html": [
       "<div>\n",
       "<style scoped>\n",
       "    .dataframe tbody tr th:only-of-type {\n",
       "        vertical-align: middle;\n",
       "    }\n",
       "\n",
       "    .dataframe tbody tr th {\n",
       "        vertical-align: top;\n",
       "    }\n",
       "\n",
       "    .dataframe thead th {\n",
       "        text-align: right;\n",
       "    }\n",
       "</style>\n",
       "<table border=\"1\" class=\"dataframe\">\n",
       "  <thead>\n",
       "    <tr style=\"text-align: right;\">\n",
       "      <th></th>\n",
       "    </tr>\n",
       "  </thead>\n",
       "  <tbody>\n",
       "  </tbody>\n",
       "</table>\n",
       "</div>"
      ],
      "text/plain": [
       "Empty DataFrame\n",
       "Columns: []\n",
       "Index: []"
      ]
     },
     "execution_count": 149,
     "metadata": {},
     "output_type": "execute_result"
    }
   ],
   "source": [
    "query(conn, \"\"\"\n",
    "    DROP VIEW IF EXISTS buss_ratio CASCADE; \n",
    "    CREATE VIEW buss_ratio AS\n",
    "    SELECT sa2_name16, sa3_name16,\n",
    "            (1000 * accommodation_and_food_services) / population AS \"accom_ratio\",\n",
    "            (1000 * retail_trade) / population AS \"retail_ratio\",\n",
    "            (1000 * health_care_and_social_assistance) / population AS \"health_ratio\"\n",
    "    FROM SA2 JOIN BusStat b ON (sa2_name16 = b.area_name) \n",
    "             JOIN Neighbours n ON (sa2_name16 = n.area_name)\"\"\")"
   ]
  },
  {
   "cell_type": "markdown",
   "id": "d5b92218",
   "metadata": {},
   "source": [
    "### z score for Accomodation, retail, health"
   ]
  },
  {
   "cell_type": "code",
   "execution_count": 150,
   "id": "cabc5ddc",
   "metadata": {},
   "outputs": [
    {
     "name": "stdout",
     "output_type": "stream",
     "text": [
      "Error encountered: \n",
      "This result object does not return rows. It has been closed automatically.\n"
     ]
    },
    {
     "data": {
      "text/html": [
       "<div>\n",
       "<style scoped>\n",
       "    .dataframe tbody tr th:only-of-type {\n",
       "        vertical-align: middle;\n",
       "    }\n",
       "\n",
       "    .dataframe tbody tr th {\n",
       "        vertical-align: top;\n",
       "    }\n",
       "\n",
       "    .dataframe thead th {\n",
       "        text-align: right;\n",
       "    }\n",
       "</style>\n",
       "<table border=\"1\" class=\"dataframe\">\n",
       "  <thead>\n",
       "    <tr style=\"text-align: right;\">\n",
       "      <th></th>\n",
       "    </tr>\n",
       "  </thead>\n",
       "  <tbody>\n",
       "  </tbody>\n",
       "</table>\n",
       "</div>"
      ],
      "text/plain": [
       "Empty DataFrame\n",
       "Columns: []\n",
       "Index: []"
      ]
     },
     "execution_count": 150,
     "metadata": {},
     "output_type": "execute_result"
    }
   ],
   "source": [
    "query(conn, \"\"\"\n",
    "    DROP VIEW IF EXISTS buss_z CASCADE;\n",
    "    CREATE VIEW buss_z AS\n",
    "    SELECT sa2_name16, \n",
    "        (accom_ratio - (SELECT AVG(accom_ratio) FROM buss_ratio))\n",
    "        / (SELECT STDDEV(accom_ratio) FROM buss_ratio) AS \"accom_z\",\n",
    "        \n",
    "        (retail_ratio - (SELECT AVG(retail_ratio) FROM buss_ratio))\n",
    "        / (SELECT STDDEV(retail_ratio) FROM buss_ratio) AS \"retail_z\",\n",
    "        \n",
    "        (health_ratio - (SELECT AVG(health_ratio) FROM buss_ratio))\n",
    "        / (SELECT STDDEV(health_ratio) FROM buss_ratio) AS \"health_z\"\n",
    "    \n",
    "    FROM buss_ratio\"\"\")\n"
   ]
  },
  {
   "cell_type": "markdown",
   "id": "169919a1",
   "metadata": {},
   "source": [
    "## Getting z score for catchments"
   ]
  },
  {
   "cell_type": "code",
   "execution_count": 151,
   "id": "2ad51cc9",
   "metadata": {},
   "outputs": [
    {
     "name": "stdout",
     "output_type": "stream",
     "text": [
      "Error encountered: \n",
      "This result object does not return rows. It has been closed automatically.\n"
     ]
    },
    {
     "data": {
      "text/html": [
       "<div>\n",
       "<style scoped>\n",
       "    .dataframe tbody tr th:only-of-type {\n",
       "        vertical-align: middle;\n",
       "    }\n",
       "\n",
       "    .dataframe tbody tr th {\n",
       "        vertical-align: top;\n",
       "    }\n",
       "\n",
       "    .dataframe thead th {\n",
       "        text-align: right;\n",
       "    }\n",
       "</style>\n",
       "<table border=\"1\" class=\"dataframe\">\n",
       "  <thead>\n",
       "    <tr style=\"text-align: right;\">\n",
       "      <th></th>\n",
       "    </tr>\n",
       "  </thead>\n",
       "  <tbody>\n",
       "  </tbody>\n",
       "</table>\n",
       "</div>"
      ],
      "text/plain": [
       "Empty DataFrame\n",
       "Columns: []\n",
       "Index: []"
      ]
     },
     "execution_count": 151,
     "metadata": {},
     "output_type": "execute_result"
    }
   ],
   "source": [
    "query(conn, \"\"\"\n",
    "    DROP VIEW IF EXISTS catchment_count CASCADE;\n",
    "    CREATE VIEW catchment_count AS\n",
    "    SELECT sa2_name16, sa3_name16,\n",
    "        (SELECT COUNT(use_id) \n",
    "         FROM SA2 s2 LEFT OUTER JOIN primary_catchments p ON ST_INTERSECTS(s2.geom, p.geom)\n",
    "         WHERE s2.sa2_name16 = s1.sa2_name16\n",
    "         GROUP BY sa2_name16) AS \"primary_count\",\n",
    "         \n",
    "        (SELECT COUNT(use_id) \n",
    "         FROM SA2 s2 LEFT OUTER JOIN secondary_catchments sec ON ST_INTERSECTS(s2.geom, sec.geom)\n",
    "         WHERE s2.sa2_name16 = s1.sa2_name16\n",
    "         GROUP BY sa2_name16) AS \"secondary_count\",\n",
    "         \n",
    "        (SELECT COUNT(use_id) \n",
    "         FROM SA2 s2 LEFT OUTER JOIN future_catchments f ON ST_INTERSECTS(s2.geom, f.geom)\n",
    "         WHERE s2.sa2_name16 = s1.sa2_name16\n",
    "         GROUP BY sa2_name16) AS \"future_count\",\n",
    "         \n",
    "         geom\n",
    "         \n",
    "    FROM sa2 s1\n",
    "\"\"\")\n",
    "\n"
   ]
  },
  {
   "cell_type": "code",
   "execution_count": 152,
   "id": "85dcf6f8",
   "metadata": {},
   "outputs": [
    {
     "name": "stdout",
     "output_type": "stream",
     "text": [
      "Error encountered: \n",
      "This result object does not return rows. It has been closed automatically.\n"
     ]
    },
    {
     "data": {
      "text/html": [
       "<div>\n",
       "<style scoped>\n",
       "    .dataframe tbody tr th:only-of-type {\n",
       "        vertical-align: middle;\n",
       "    }\n",
       "\n",
       "    .dataframe tbody tr th {\n",
       "        vertical-align: top;\n",
       "    }\n",
       "\n",
       "    .dataframe thead th {\n",
       "        text-align: right;\n",
       "    }\n",
       "</style>\n",
       "<table border=\"1\" class=\"dataframe\">\n",
       "  <thead>\n",
       "    <tr style=\"text-align: right;\">\n",
       "      <th></th>\n",
       "    </tr>\n",
       "  </thead>\n",
       "  <tbody>\n",
       "  </tbody>\n",
       "</table>\n",
       "</div>"
      ],
      "text/plain": [
       "Empty DataFrame\n",
       "Columns: []\n",
       "Index: []"
      ]
     },
     "execution_count": 152,
     "metadata": {},
     "output_type": "execute_result"
    }
   ],
   "source": [
    "query(conn, \"\"\"\n",
    "    DROP VIEW IF EXISTS catchment_ratio_view CASCADE;\n",
    "    CREATE VIEW catchment_ratio_view AS\n",
    "    select sa2_name16, sa3_name16,\n",
    "            1000*(primary_count + secondary_count + future_count)/(young_people) AS \"catchment_ratio\",\n",
    "            geom\n",
    "    from catchment_count\n",
    "        JOIN Neighbours ON sa2_name16 = area_name\"\"\")"
   ]
  },
  {
   "cell_type": "code",
   "execution_count": 153,
   "id": "e25e9524",
   "metadata": {},
   "outputs": [
    {
     "name": "stdout",
     "output_type": "stream",
     "text": [
      "Error encountered: \n",
      "This result object does not return rows. It has been closed automatically.\n"
     ]
    },
    {
     "data": {
      "text/html": [
       "<div>\n",
       "<style scoped>\n",
       "    .dataframe tbody tr th:only-of-type {\n",
       "        vertical-align: middle;\n",
       "    }\n",
       "\n",
       "    .dataframe tbody tr th {\n",
       "        vertical-align: top;\n",
       "    }\n",
       "\n",
       "    .dataframe thead th {\n",
       "        text-align: right;\n",
       "    }\n",
       "</style>\n",
       "<table border=\"1\" class=\"dataframe\">\n",
       "  <thead>\n",
       "    <tr style=\"text-align: right;\">\n",
       "      <th></th>\n",
       "    </tr>\n",
       "  </thead>\n",
       "  <tbody>\n",
       "  </tbody>\n",
       "</table>\n",
       "</div>"
      ],
      "text/plain": [
       "Empty DataFrame\n",
       "Columns: []\n",
       "Index: []"
      ]
     },
     "execution_count": 153,
     "metadata": {},
     "output_type": "execute_result"
    }
   ],
   "source": [
    "query(conn, \"\"\"\n",
    "    DROP VIEW IF EXISTS catchment_z_view CASCADE;\n",
    "    CREATE VIEW catchment_z_view AS\n",
    "    SELECT sa2_name16, \n",
    "        (catchment_ratio - (SELECT AVG(catchment_ratio) FROM catchment_ratio_view))\n",
    "        / (SELECT STDDEV(catchment_ratio) FROM catchment_ratio_view) AS \"catchment_z\",\n",
    "        geom\n",
    "        \n",
    "    FROM catchment_ratio_view\n",
    "\"\"\")"
   ]
  },
  {
   "cell_type": "markdown",
   "id": "eb9ad7f9",
   "metadata": {},
   "source": [
    "## Final Sigmoid"
   ]
  },
  {
   "cell_type": "code",
   "execution_count": 154,
   "id": "c7f2e9b8",
   "metadata": {},
   "outputs": [
    {
     "name": "stdout",
     "output_type": "stream",
     "text": [
      "Error encountered: \n",
      "This result object does not return rows. It has been closed automatically.\n"
     ]
    },
    {
     "data": {
      "text/html": [
       "<div>\n",
       "<style scoped>\n",
       "    .dataframe tbody tr th:only-of-type {\n",
       "        vertical-align: middle;\n",
       "    }\n",
       "\n",
       "    .dataframe tbody tr th {\n",
       "        vertical-align: top;\n",
       "    }\n",
       "\n",
       "    .dataframe thead th {\n",
       "        text-align: right;\n",
       "    }\n",
       "</style>\n",
       "<table border=\"1\" class=\"dataframe\">\n",
       "  <thead>\n",
       "    <tr style=\"text-align: right;\">\n",
       "      <th></th>\n",
       "    </tr>\n",
       "  </thead>\n",
       "  <tbody>\n",
       "  </tbody>\n",
       "</table>\n",
       "</div>"
      ],
      "text/plain": [
       "Empty DataFrame\n",
       "Columns: []\n",
       "Index: []"
      ]
     },
     "execution_count": 154,
     "metadata": {},
     "output_type": "execute_result"
    }
   ],
   "source": [
    "query(conn, \"\"\"\n",
    "    DROP VIEW IF EXISTS sa2_scores CASCADE;\n",
    "    CREATE VIEW sa2_scores AS\n",
    "    SELECT sa2_name16, sa3_name16, catchment_z, accom_z, retail_z, health_z, crime_z,\n",
    "            1/(1 + EXP(-1 * (catchment_z + accom_z + retail_z + health_z - crime_z))) AS \"score\",\n",
    "            geom\n",
    "    FROM catchment_z_view JOIN buss_z USING (sa2_name16)\n",
    "        JOIN crime_z USING(sa2_name16)\n",
    "\"\"\")"
   ]
  },
  {
   "cell_type": "markdown",
   "id": "0011da0c",
   "metadata": {},
   "source": [
    "## Visualisation"
   ]
  },
  {
   "cell_type": "markdown",
   "id": "2749dcef",
   "metadata": {},
   "source": [
    "### Top 5 sa3 areas (by average score)"
   ]
  },
  {
   "cell_type": "code",
   "execution_count": 155,
   "id": "b60887c5",
   "metadata": {},
   "outputs": [
    {
     "data": {
      "text/html": [
       "<div>\n",
       "<style scoped>\n",
       "    .dataframe tbody tr th:only-of-type {\n",
       "        vertical-align: middle;\n",
       "    }\n",
       "\n",
       "    .dataframe tbody tr th {\n",
       "        vertical-align: top;\n",
       "    }\n",
       "\n",
       "    .dataframe thead th {\n",
       "        text-align: right;\n",
       "    }\n",
       "</style>\n",
       "<table border=\"1\" class=\"dataframe\">\n",
       "  <thead>\n",
       "    <tr style=\"text-align: right;\">\n",
       "      <th></th>\n",
       "      <th>sa3_name16</th>\n",
       "      <th>avg_neighbourhood_score</th>\n",
       "    </tr>\n",
       "  </thead>\n",
       "  <tbody>\n",
       "    <tr>\n",
       "      <th>0</th>\n",
       "      <td>Dural - Wisemans Ferry</td>\n",
       "      <td>0.956471</td>\n",
       "    </tr>\n",
       "    <tr>\n",
       "      <th>1</th>\n",
       "      <td>Sydney Inner City</td>\n",
       "      <td>0.812586</td>\n",
       "    </tr>\n",
       "    <tr>\n",
       "      <th>2</th>\n",
       "      <td>Ku-ring-gai</td>\n",
       "      <td>0.786882</td>\n",
       "    </tr>\n",
       "    <tr>\n",
       "      <th>3</th>\n",
       "      <td>Hawkesbury</td>\n",
       "      <td>0.698457</td>\n",
       "    </tr>\n",
       "    <tr>\n",
       "      <th>4</th>\n",
       "      <td>Rouse Hill - McGraths Hill</td>\n",
       "      <td>0.698196</td>\n",
       "    </tr>\n",
       "  </tbody>\n",
       "</table>\n",
       "</div>"
      ],
      "text/plain": [
       "                   sa3_name16  avg_neighbourhood_score\n",
       "0      Dural - Wisemans Ferry                 0.956471\n",
       "1           Sydney Inner City                 0.812586\n",
       "2                 Ku-ring-gai                 0.786882\n",
       "3                  Hawkesbury                 0.698457\n",
       "4  Rouse Hill - McGraths Hill                 0.698196"
      ]
     },
     "execution_count": 155,
     "metadata": {},
     "output_type": "execute_result"
    }
   ],
   "source": [
    "areas = pd.read_sql(\"\"\"\n",
    "    SELECT sa3_name16, AVG(score) AS \"avg_neighbourhood_score\"\n",
    "    FROM sa2_scores\n",
    "    GROUP BY sa3_name16\n",
    "    ORDER BY \"avg_neighbourhood_score\" DESC \n",
    "    LIMIT 3\n",
    "\"\"\", conn)\n",
    "areas"
   ]
  },
  {
   "cell_type": "markdown",
   "id": "547e6e0f",
   "metadata": {},
   "source": [
    "### Top 5 sa2 areas"
   ]
  },
  {
   "cell_type": "code",
   "execution_count": 156,
   "id": "db3b1eca",
   "metadata": {},
   "outputs": [
    {
     "data": {
      "text/html": [
       "<div>\n",
       "<style scoped>\n",
       "    .dataframe tbody tr th:only-of-type {\n",
       "        vertical-align: middle;\n",
       "    }\n",
       "\n",
       "    .dataframe tbody tr th {\n",
       "        vertical-align: top;\n",
       "    }\n",
       "\n",
       "    .dataframe thead th {\n",
       "        text-align: right;\n",
       "    }\n",
       "</style>\n",
       "<table border=\"1\" class=\"dataframe\">\n",
       "  <thead>\n",
       "    <tr style=\"text-align: right;\">\n",
       "      <th></th>\n",
       "      <th>sa2_name16</th>\n",
       "      <th>score</th>\n",
       "    </tr>\n",
       "  </thead>\n",
       "  <tbody>\n",
       "    <tr>\n",
       "      <th>0</th>\n",
       "      <td>Sydney - Haymarket - The Rocks</td>\n",
       "      <td>1.000000</td>\n",
       "    </tr>\n",
       "    <tr>\n",
       "      <th>1</th>\n",
       "      <td>Chullora</td>\n",
       "      <td>1.000000</td>\n",
       "    </tr>\n",
       "    <tr>\n",
       "      <th>2</th>\n",
       "      <td>North Sydney - Lavender Bay</td>\n",
       "      <td>0.999735</td>\n",
       "    </tr>\n",
       "    <tr>\n",
       "      <th>3</th>\n",
       "      <td>Darlinghurst</td>\n",
       "      <td>0.999707</td>\n",
       "    </tr>\n",
       "    <tr>\n",
       "      <th>4</th>\n",
       "      <td>Calga - Kulnura</td>\n",
       "      <td>0.999258</td>\n",
       "    </tr>\n",
       "  </tbody>\n",
       "</table>\n",
       "</div>"
      ],
      "text/plain": [
       "                       sa2_name16     score\n",
       "0  Sydney - Haymarket - The Rocks  1.000000\n",
       "1                        Chullora  1.000000\n",
       "2     North Sydney - Lavender Bay  0.999735\n",
       "3                    Darlinghurst  0.999707\n",
       "4                 Calga - Kulnura  0.999258"
      ]
     },
     "execution_count": 156,
     "metadata": {},
     "output_type": "execute_result"
    }
   ],
   "source": [
    "areas = pd.read_sql(\"\"\"\n",
    "    SELECT sa2_name16, score\n",
    "    FROM sa2_scores\n",
    "    ORDER BY score DESC \n",
    "    LIMIT 3\n",
    "\"\"\", conn)\n",
    "areas"
   ]
  },
  {
   "cell_type": "markdown",
   "id": "ecb6b648",
   "metadata": {},
   "source": [
    "### Summary of Scores"
   ]
  },
  {
   "cell_type": "code",
   "execution_count": 158,
   "id": "66e7abf2",
   "metadata": {},
   "outputs": [
    {
     "data": {
      "text/html": [
       "<div>\n",
       "<style scoped>\n",
       "    .dataframe tbody tr th:only-of-type {\n",
       "        vertical-align: middle;\n",
       "    }\n",
       "\n",
       "    .dataframe tbody tr th {\n",
       "        vertical-align: top;\n",
       "    }\n",
       "\n",
       "    .dataframe thead th {\n",
       "        text-align: right;\n",
       "    }\n",
       "</style>\n",
       "<table border=\"1\" class=\"dataframe\">\n",
       "  <thead>\n",
       "    <tr style=\"text-align: right;\">\n",
       "      <th></th>\n",
       "      <th>avg_score</th>\n",
       "      <th>stddev_score</th>\n",
       "      <th>Q1</th>\n",
       "      <th>median</th>\n",
       "      <th>Q3</th>\n",
       "    </tr>\n",
       "  </thead>\n",
       "  <tbody>\n",
       "    <tr>\n",
       "      <th>0</th>\n",
       "      <td>0.444049</td>\n",
       "      <td>0.301473</td>\n",
       "      <td>0.190243</td>\n",
       "      <td>0.377047</td>\n",
       "      <td>0.691492</td>\n",
       "    </tr>\n",
       "  </tbody>\n",
       "</table>\n",
       "</div>"
      ],
      "text/plain": [
       "   avg_score  stddev_score        Q1    median        Q3\n",
       "0   0.444049      0.301473  0.190243  0.377047  0.691492"
      ]
     },
     "execution_count": 158,
     "metadata": {},
     "output_type": "execute_result"
    }
   ],
   "source": [
    "query(conn, \"\"\"\n",
    "    SELECT AVG(score) AS \"avg_score\", STDDEV(score) AS \"stddev_score\",\n",
    "        percentile_cont(0.25) WITHIN GROUP (ORDER BY score) AS \"Q1\",\n",
    "        percentile_cont(0.50) WITHIN GROUP (ORDER BY score) AS \"median\",\n",
    "        percentile_cont(0.75) WITHIN GROUP (ORDER BY score) AS \"Q3\"\n",
    "    FROM sa2_scores\n",
    "\"\"\")"
   ]
  },
  {
   "cell_type": "markdown",
   "id": "1ef408a7",
   "metadata": {},
   "source": [
    "### Map of Data"
   ]
  },
  {
   "cell_type": "code",
   "execution_count": 161,
   "id": "cdc7c546",
   "metadata": {},
   "outputs": [
    {
     "data": {
      "image/png": "[encoded data removed]",
      "text/plain": [
       "<Figure size 1080x1080 with 2 Axes>"
      ]
     },
     "metadata": {
      "needs_background": "light"
     },
     "output_type": "display_data"
    }
   ],
   "source": [
    "suburbs = gpd.read_postgis(\"SELECT sa2_name16, score, geom FROM sa2_scores\", conn)\n",
    "suburbs.plot(column='score', legend=True,figsize=(15, 15), cmap='RdPu',\n",
    "             legend_kwds={'label': \"Liveability Score\",\n",
    "                        'orientation': \"horizontal\"})\n",
    "plt.title(\"Liveability Score for Suburbs in Greater Sydney\", fontdict={'fontsize': 16}, pad=10)  # setting a title\n",
    "plt.xlabel(\"Longitude\", fontdict={'fontsize': 14}, labelpad=10)  # setting an x-axis\n",
    "plt.ylabel(\"Latitude\", fontdict={'fontsize': 14}, labelpad=10)  # setting a y-axis\n",
    "plt.show()  # displaying the plot"
   ]
  },
  {
   "cell_type": "markdown",
   "id": "38d85245",
   "metadata": {},
   "source": [
    "## Correlation Testing"
   ]
  },
  {
   "cell_type": "markdown",
   "id": "59a48309",
   "metadata": {},
   "source": [
    "### Correlation between score and median household income; between score and average monthly rent"
   ]
  },
  {
   "cell_type": "code",
   "execution_count": 127,
   "id": "ac6596c2",
   "metadata": {},
   "outputs": [
    {
     "data": {
      "text/html": [
       "<div>\n",
       "<style scoped>\n",
       "    .dataframe tbody tr th:only-of-type {\n",
       "        vertical-align: middle;\n",
       "    }\n",
       "\n",
       "    .dataframe tbody tr th {\n",
       "        vertical-align: top;\n",
       "    }\n",
       "\n",
       "    .dataframe thead th {\n",
       "        text-align: right;\n",
       "    }\n",
       "</style>\n",
       "<table border=\"1\" class=\"dataframe\">\n",
       "  <thead>\n",
       "    <tr style=\"text-align: right;\">\n",
       "      <th></th>\n",
       "      <th>score_and_income_corr</th>\n",
       "      <th>score_and_rent_corr</th>\n",
       "    </tr>\n",
       "  </thead>\n",
       "  <tbody>\n",
       "    <tr>\n",
       "      <th>0</th>\n",
       "      <td>0.241785</td>\n",
       "      <td>0.366409</td>\n",
       "    </tr>\n",
       "  </tbody>\n",
       "</table>\n",
       "</div>"
      ],
      "text/plain": [
       "   score_and_income_corr  score_and_rent_corr\n",
       "0               0.241785             0.366409"
      ]
     },
     "execution_count": 127,
     "metadata": {},
     "output_type": "execute_result"
    }
   ],
   "source": [
    "query(conn, \"\"\"\n",
    "    SELECT CORR(score, median_annual_household_income) AS \"score_and_income_corr\",\n",
    "           CORR(score, avg_monthly_rent) AS \"score_and_rent_corr\"\n",
    "    FROM sa2_scores JOIN neighbours ON (sa2_name16 = area_name)\"\"\")"
   ]
  },
  {
   "cell_type": "markdown",
   "id": "b16a5791",
   "metadata": {},
   "source": [
    "# City Of Sydney"
   ]
  },
  {
   "cell_type": "markdown",
   "id": "87cb44b5",
   "metadata": {},
   "source": [
    "## Reading and Cleaning the Mobility Parking Dataset"
   ]
  },
  {
   "cell_type": "code",
   "execution_count": 162,
   "id": "daf5a795",
   "metadata": {},
   "outputs": [
    {
     "name": "stdout",
     "output_type": "stream",
     "text": [
      "No duplicated rows\n",
      "No Null values\n"
     ]
    }
   ],
   "source": [
    "parking = gpd.read_file('Mobility_parking.geojson')\n",
    "parkingog = parking.copy()\n",
    "\n",
    "columns_to_drop = ['Address', 'SiteID', 'Street', 'Location', 'SideOfStreet',\n",
    "                   'URL', 'AuditDate', 'SignText', 'ParkingSpaceAngle', 'ParkingSpaceWidth',\n",
    "                   'ParkingSpaceLength']\n",
    "parking.drop(columns = columns_to_drop, inplace=True)\n",
    "\n",
    "parking['geom'] = parking['geometry'].apply(lambda x: WKTElement(x.wkt, srid=srid))\n",
    "parking.drop(columns='geometry', inplace=True)\n",
    "\n",
    "#Testing for duplicate rows\n",
    "if (parking.duplicated().sum() == 0):\n",
    "    print(\"No duplicated rows\")\n",
    "else:\n",
    "    print(\"Duplicated rows below\")\n",
    "    parking[parking.duplicated(keep=False)]\n",
    "\n",
    "    \n",
    "#Testing for Null values\n",
    "if (parking.isnull().values.any() == False):\n",
    "    print(\"No Null values\")\n",
    "else:\n",
    "    print(\"Null rows below\")\n",
    "    parking[parking.isnull().any(axis=1)]\n",
    "    \n",
    "\n",
    "    \n",
    "parking.rename(columns = {\n",
    "    'OBJECTID' : 'objectid',\n",
    "    'Suburb' : 'suburb',\n",
    "    'NumberParkingSpaces' : 'numberparkingspaces',\n",
    "}, inplace = True)\n",
    "\n",
    "conn.execute(\"\"\"\n",
    "DROP TABLE IF EXISTS parking;\n",
    "CREATE TABLE parking (\n",
    "    objectid INT PRIMARY KEY,\n",
    "    suburb VARCHAR(50),\n",
    "    numberparkingspaces INT,\n",
    "    geom GEOMETRY(POINTZ, 4283)\n",
    ");\"\"\")\n",
    "\n",
    "parking.to_sql(\"parking\", conn, if_exists='append', index=False, dtype={'geom': Geometry('POINTZ', srid)})"
   ]
  },
  {
   "cell_type": "markdown",
   "id": "38a64031",
   "metadata": {},
   "source": [
    "## City of Sydney specific z scores"
   ]
  },
  {
   "cell_type": "markdown",
   "id": "817667b1",
   "metadata": {},
   "source": [
    "### Parking z score"
   ]
  },
  {
   "cell_type": "code",
   "execution_count": 163,
   "id": "6a2640c1",
   "metadata": {},
   "outputs": [
    {
     "name": "stdout",
     "output_type": "stream",
     "text": [
      "Error encountered: \n",
      "This result object does not return rows. It has been closed automatically.\n"
     ]
    },
    {
     "data": {
      "text/html": [
       "<div>\n",
       "<style scoped>\n",
       "    .dataframe tbody tr th:only-of-type {\n",
       "        vertical-align: middle;\n",
       "    }\n",
       "\n",
       "    .dataframe tbody tr th {\n",
       "        vertical-align: top;\n",
       "    }\n",
       "\n",
       "    .dataframe thead th {\n",
       "        text-align: right;\n",
       "    }\n",
       "</style>\n",
       "<table border=\"1\" class=\"dataframe\">\n",
       "  <thead>\n",
       "    <tr style=\"text-align: right;\">\n",
       "      <th></th>\n",
       "    </tr>\n",
       "  </thead>\n",
       "  <tbody>\n",
       "  </tbody>\n",
       "</table>\n",
       "</div>"
      ],
      "text/plain": [
       "Empty DataFrame\n",
       "Columns: []\n",
       "Index: []"
      ]
     },
     "execution_count": 163,
     "metadata": {},
     "output_type": "execute_result"
    }
   ],
   "source": [
    "query(conn, \"\"\"\n",
    "    DROP VIEW IF EXISTS parking_ratio CASCADE;\n",
    "    CREATE VIEW parking_ratio AS\n",
    "    select sa2_name16, SUM(numberparkingspaces) / AVG(land_area) AS \"parkingperkmsq\"\n",
    "    from sa2 s \n",
    "        LEFT JOIN parking p ON ST_CONTAINS(s.geom, p.geom)\n",
    "        JOIN Neighbours n ON (sa2_name16 = n.area_name)\n",
    "    where sa3_name16 = 'Sydney Inner City'\n",
    "    GROUP BY sa2_name16\"\"\")"
   ]
  },
  {
   "cell_type": "code",
   "execution_count": 164,
   "id": "04628582",
   "metadata": {},
   "outputs": [
    {
     "name": "stdout",
     "output_type": "stream",
     "text": [
      "Error encountered: \n",
      "This result object does not return rows. It has been closed automatically.\n"
     ]
    },
    {
     "data": {
      "text/html": [
       "<div>\n",
       "<style scoped>\n",
       "    .dataframe tbody tr th:only-of-type {\n",
       "        vertical-align: middle;\n",
       "    }\n",
       "\n",
       "    .dataframe tbody tr th {\n",
       "        vertical-align: top;\n",
       "    }\n",
       "\n",
       "    .dataframe thead th {\n",
       "        text-align: right;\n",
       "    }\n",
       "</style>\n",
       "<table border=\"1\" class=\"dataframe\">\n",
       "  <thead>\n",
       "    <tr style=\"text-align: right;\">\n",
       "      <th></th>\n",
       "    </tr>\n",
       "  </thead>\n",
       "  <tbody>\n",
       "  </tbody>\n",
       "</table>\n",
       "</div>"
      ],
      "text/plain": [
       "Empty DataFrame\n",
       "Columns: []\n",
       "Index: []"
      ]
     },
     "execution_count": 164,
     "metadata": {},
     "output_type": "execute_result"
    }
   ],
   "source": [
    "query(conn, \"\"\"\n",
    "    DROP VIEW IF EXISTS parking_z CASCADE;\n",
    "    CREATE VIEW parking_z AS\n",
    "    SELECT sa2_name16, \n",
    "        (parkingperkmsq - (SELECT AVG(parkingperkmsq) FROM parking_ratio))\n",
    "        / (SELECT STDDEV(parkingperkmsq) FROM parking_ratio) AS \"parking_z\"\n",
    "    FROM parking_ratio\"\"\")"
   ]
  },
  {
   "cell_type": "markdown",
   "id": "71bbcd31",
   "metadata": {},
   "source": [
    "### Modified Accom, Retail and Health z score"
   ]
  },
  {
   "cell_type": "code",
   "execution_count": 165,
   "id": "658fc741",
   "metadata": {},
   "outputs": [
    {
     "name": "stdout",
     "output_type": "stream",
     "text": [
      "Error encountered: \n",
      "This result object does not return rows. It has been closed automatically.\n"
     ]
    },
    {
     "data": {
      "text/html": [
       "<div>\n",
       "<style scoped>\n",
       "    .dataframe tbody tr th:only-of-type {\n",
       "        vertical-align: middle;\n",
       "    }\n",
       "\n",
       "    .dataframe tbody tr th {\n",
       "        vertical-align: top;\n",
       "    }\n",
       "\n",
       "    .dataframe thead th {\n",
       "        text-align: right;\n",
       "    }\n",
       "</style>\n",
       "<table border=\"1\" class=\"dataframe\">\n",
       "  <thead>\n",
       "    <tr style=\"text-align: right;\">\n",
       "      <th></th>\n",
       "    </tr>\n",
       "  </thead>\n",
       "  <tbody>\n",
       "  </tbody>\n",
       "</table>\n",
       "</div>"
      ],
      "text/plain": [
       "Empty DataFrame\n",
       "Columns: []\n",
       "Index: []"
      ]
     },
     "execution_count": 165,
     "metadata": {},
     "output_type": "execute_result"
    }
   ],
   "source": [
    "query(conn, \"\"\"\n",
    "    DROP VIEW IF EXISTS buss_z_syd CASCADE;\n",
    "    CREATE VIEW buss_z_syd AS\n",
    "    SELECT sa2_name16, \n",
    "        (accom_ratio - (SELECT AVG(accom_ratio) FROM buss_ratio WHERE sa3_name16 = 'Sydney Inner City'))\n",
    "        / (SELECT STDDEV(accom_ratio) FROM buss_ratio WHERE sa3_name16 = 'Sydney Inner City') AS \"accom_z\",\n",
    "        \n",
    "        (retail_ratio - (SELECT AVG(retail_ratio) FROM buss_ratio WHERE sa3_name16 = 'Sydney Inner City'))\n",
    "        / (SELECT STDDEV(retail_ratio) FROM buss_ratio WHERE sa3_name16 = 'Sydney Inner City') AS \"retail_z\",\n",
    "        \n",
    "        (health_ratio - (SELECT AVG(health_ratio) FROM buss_ratio WHERE sa3_name16 = 'Sydney Inner City'))\n",
    "        / (SELECT STDDEV(health_ratio) FROM buss_ratio WHERE sa3_name16 = 'Sydney Inner City') AS \"health_z\"\n",
    "    \n",
    "    FROM buss_ratio\n",
    "    WHERE sa3_name16 = 'Sydney Inner City'\n",
    "\"\"\")"
   ]
  },
  {
   "cell_type": "markdown",
   "id": "32d6822d",
   "metadata": {},
   "source": [
    "### Modified Catchment z score"
   ]
  },
  {
   "cell_type": "code",
   "execution_count": 166,
   "id": "3c71aee3",
   "metadata": {},
   "outputs": [
    {
     "name": "stdout",
     "output_type": "stream",
     "text": [
      "Error encountered: \n",
      "This result object does not return rows. It has been closed automatically.\n"
     ]
    },
    {
     "data": {
      "text/html": [
       "<div>\n",
       "<style scoped>\n",
       "    .dataframe tbody tr th:only-of-type {\n",
       "        vertical-align: middle;\n",
       "    }\n",
       "\n",
       "    .dataframe tbody tr th {\n",
       "        vertical-align: top;\n",
       "    }\n",
       "\n",
       "    .dataframe thead th {\n",
       "        text-align: right;\n",
       "    }\n",
       "</style>\n",
       "<table border=\"1\" class=\"dataframe\">\n",
       "  <thead>\n",
       "    <tr style=\"text-align: right;\">\n",
       "      <th></th>\n",
       "    </tr>\n",
       "  </thead>\n",
       "  <tbody>\n",
       "  </tbody>\n",
       "</table>\n",
       "</div>"
      ],
      "text/plain": [
       "Empty DataFrame\n",
       "Columns: []\n",
       "Index: []"
      ]
     },
     "execution_count": 166,
     "metadata": {},
     "output_type": "execute_result"
    }
   ],
   "source": [
    "query(conn, \"\"\"\n",
    "    DROP VIEW IF EXISTS catchment_z_view_syd CASCADE;\n",
    "    CREATE VIEW catchment_z_view_syd AS\n",
    "    SELECT sa2_name16, \n",
    "        (catchment_ratio - (SELECT AVG(catchment_ratio) FROM catchment_ratio_view \n",
    "                                WHERE sa3_name16 = 'Sydney Inner City'))\n",
    "        / (SELECT STDDEV(catchment_ratio) FROM catchment_ratio_view\n",
    "                WHERE sa3_name16 = 'Sydney Inner City') AS \"catchment_z\",\n",
    "        geom\n",
    "        \n",
    "    FROM catchment_ratio_view\n",
    "    WHERE sa3_name16 = 'Sydney Inner City'\n",
    "\"\"\")"
   ]
  },
  {
   "cell_type": "markdown",
   "id": "bfa9e965",
   "metadata": {},
   "source": [
    "### Modified Crime z score"
   ]
  },
  {
   "cell_type": "code",
   "execution_count": 167,
   "id": "75f3e3e0",
   "metadata": {},
   "outputs": [
    {
     "name": "stdout",
     "output_type": "stream",
     "text": [
      "Error encountered: \n",
      "This result object does not return rows. It has been closed automatically.\n"
     ]
    },
    {
     "data": {
      "text/html": [
       "<div>\n",
       "<style scoped>\n",
       "    .dataframe tbody tr th:only-of-type {\n",
       "        vertical-align: middle;\n",
       "    }\n",
       "\n",
       "    .dataframe tbody tr th {\n",
       "        vertical-align: top;\n",
       "    }\n",
       "\n",
       "    .dataframe thead th {\n",
       "        text-align: right;\n",
       "    }\n",
       "</style>\n",
       "<table border=\"1\" class=\"dataframe\">\n",
       "  <thead>\n",
       "    <tr style=\"text-align: right;\">\n",
       "      <th></th>\n",
       "    </tr>\n",
       "  </thead>\n",
       "  <tbody>\n",
       "  </tbody>\n",
       "</table>\n",
       "</div>"
      ],
      "text/plain": [
       "Empty DataFrame\n",
       "Columns: []\n",
       "Index: []"
      ]
     },
     "execution_count": 167,
     "metadata": {},
     "output_type": "execute_result"
    }
   ],
   "source": [
    "query(conn, \"\"\"\n",
    "    DROP VIEW IF EXISTS Crime_z_syd CASCADE;\n",
    "    CREATE VIEW Crime_z_syd AS\n",
    "    SELECT sa2_name16,\n",
    "        (crime_count - (SELECT AVG(crime_count) FROM CrimeTotal WHERE sa3_name16 = 'Sydney Inner City')) \n",
    "        / ((SELECT STDDEV(crime_count) FROM CrimeTotal WHERE sa3_name16 = 'Sydney Inner City')) AS \"crime_z\"\n",
    "    \n",
    "    FROM CrimeTotal\n",
    "    WHERE sa3_name16 = 'Sydney Inner City'\n",
    "\"\"\")"
   ]
  },
  {
   "cell_type": "markdown",
   "id": "eb1e3a95",
   "metadata": {},
   "source": [
    "## Modified Sigmoid for City of Sydney"
   ]
  },
  {
   "cell_type": "code",
   "execution_count": 168,
   "id": "be3c1879",
   "metadata": {},
   "outputs": [
    {
     "name": "stdout",
     "output_type": "stream",
     "text": [
      "Error encountered: \n",
      "This result object does not return rows. It has been closed automatically.\n"
     ]
    },
    {
     "data": {
      "text/html": [
       "<div>\n",
       "<style scoped>\n",
       "    .dataframe tbody tr th:only-of-type {\n",
       "        vertical-align: middle;\n",
       "    }\n",
       "\n",
       "    .dataframe tbody tr th {\n",
       "        vertical-align: top;\n",
       "    }\n",
       "\n",
       "    .dataframe thead th {\n",
       "        text-align: right;\n",
       "    }\n",
       "</style>\n",
       "<table border=\"1\" class=\"dataframe\">\n",
       "  <thead>\n",
       "    <tr style=\"text-align: right;\">\n",
       "      <th></th>\n",
       "    </tr>\n",
       "  </thead>\n",
       "  <tbody>\n",
       "  </tbody>\n",
       "</table>\n",
       "</div>"
      ],
      "text/plain": [
       "Empty DataFrame\n",
       "Columns: []\n",
       "Index: []"
      ]
     },
     "execution_count": 168,
     "metadata": {},
     "output_type": "execute_result"
    }
   ],
   "source": [
    "query(conn, \"\"\"\n",
    "    DROP VIEW IF EXISTS sa2_scores_syd CASCADE;\n",
    "    CREATE VIEW sa2_scores_syd AS\n",
    "    SELECT sa2_name16, catchment_z, accom_z, retail_z, health_z, crime_z, parking_z,\n",
    "            1/(1 + EXP(-1 * (2 * catchment_z + 0.5 * accom_z + 0.5 * retail_z + 3 * health_z - crime_z + 1.5 * parking_z))) AS \"score\",\n",
    "            geom\n",
    "    FROM catchment_z_view JOIN buss_z USING (sa2_name16)\n",
    "        JOIN crime_z USING(sa2_name16)\n",
    "        JOIN parking_z USING (sa2_name16)\n",
    "\"\"\")"
   ]
  },
  {
   "cell_type": "markdown",
   "id": "d50e89cc",
   "metadata": {},
   "source": [
    "## Visualisation of Data"
   ]
  },
  {
   "cell_type": "code",
   "execution_count": 169,
   "id": "79101bd6",
   "metadata": {},
   "outputs": [
    {
     "data": {
      "image/png": "[encoded data removed]",
      "text/plain": [
       "<Figure size 1080x1080 with 2 Axes>"
      ]
     },
     "metadata": {
      "needs_background": "light"
     },
     "output_type": "display_data"
    }
   ],
   "source": [
    "suburbs = gpd.read_postgis(\"SELECT sa2_name16, score, geom FROM sa2_scores_syd\", conn)\n",
    "suburbs.plot(column='score', legend=True,figsize=(15, 15), cmap='RdPu',\n",
    "             legend_kwds={'label': \"Liveability Score\",\n",
    "                        'orientation': \"horizontal\"})\n",
    "plt.title(\"Liveability Score for Suburbs in City Of Sydney\", fontdict={'fontsize': 16}, pad=10)  # setting a title\n",
    "plt.xlabel(\"Longitude\", fontdict={'fontsize': 14}, labelpad=10)  # setting an x-axis\n",
    "plt.ylabel(\"Latitude\", fontdict={'fontsize': 14}, labelpad=10)  # setting a y-axis\n",
    "plt.show() "
   ]
  },
  {
   "cell_type": "markdown",
   "id": "dc9ed86e",
   "metadata": {},
   "source": [
    "### Top 3 SA2 in City of Sydney"
   ]
  },
  {
   "cell_type": "code",
   "execution_count": 183,
   "id": "c0c4b742",
   "metadata": {},
   "outputs": [
    {
     "data": {
      "text/html": [
       "<div>\n",
       "<style scoped>\n",
       "    .dataframe tbody tr th:only-of-type {\n",
       "        vertical-align: middle;\n",
       "    }\n",
       "\n",
       "    .dataframe tbody tr th {\n",
       "        vertical-align: top;\n",
       "    }\n",
       "\n",
       "    .dataframe thead th {\n",
       "        text-align: right;\n",
       "    }\n",
       "</style>\n",
       "<table border=\"1\" class=\"dataframe\">\n",
       "  <thead>\n",
       "    <tr style=\"text-align: right;\">\n",
       "      <th></th>\n",
       "      <th>sa2_name16</th>\n",
       "      <th>score</th>\n",
       "      <th>geom</th>\n",
       "    </tr>\n",
       "  </thead>\n",
       "  <tbody>\n",
       "    <tr>\n",
       "      <th>8</th>\n",
       "      <td>Sydney - Haymarket - The Rocks</td>\n",
       "      <td>1.000000</td>\n",
       "      <td>MULTIPOLYGON (((151.22538 -33.85527, 151.22524...</td>\n",
       "    </tr>\n",
       "    <tr>\n",
       "      <th>0</th>\n",
       "      <td>Darlinghurst</td>\n",
       "      <td>1.000000</td>\n",
       "      <td>MULTIPOLYGON (((151.21227 -33.87633, 151.21232...</td>\n",
       "    </tr>\n",
       "    <tr>\n",
       "      <th>7</th>\n",
       "      <td>Surry Hills</td>\n",
       "      <td>0.999537</td>\n",
       "      <td>MULTIPOLYGON (((151.20830 -33.88344, 151.20842...</td>\n",
       "    </tr>\n",
       "  </tbody>\n",
       "</table>\n",
       "</div>"
      ],
      "text/plain": [
       "                       sa2_name16     score  \\\n",
       "8  Sydney - Haymarket - The Rocks  1.000000   \n",
       "0                    Darlinghurst  1.000000   \n",
       "7                     Surry Hills  0.999537   \n",
       "\n",
       "                                                geom  \n",
       "8  MULTIPOLYGON (((151.22538 -33.85527, 151.22524...  \n",
       "0  MULTIPOLYGON (((151.21227 -33.87633, 151.21232...  \n",
       "7  MULTIPOLYGON (((151.20830 -33.88344, 151.20842...  "
      ]
     },
     "execution_count": 183,
     "metadata": {},
     "output_type": "execute_result"
    }
   ],
   "source": [
    "suburbs.sort_values('score', ascending=False).head(3)"
   ]
  },
  {
   "cell_type": "markdown",
   "id": "3c0f369d",
   "metadata": {},
   "source": [
    "# ML Liveability Score"
   ]
  },
  {
   "cell_type": "code",
   "execution_count": 181,
   "id": "ddb0742e",
   "metadata": {},
   "outputs": [
    {
     "name": "stdout",
     "output_type": "stream",
     "text": [
      "Parameter grid:\n",
      "{'n_neighbors': [1, 3, 5], 'p': [1, 2]}\n",
      "Best parameters: {'n_neighbors': 5, 'p': 1}\n",
      "Best cross validation score on training set: 0.20\n",
      "Score on test set with best parameters: 0.09\n"
     ]
    }
   ],
   "source": [
    "df = pd.read_sql_query('''\n",
    "SELECT s.sa2_name16, score, number_of_businesses/land_area as \"businesses_to_land\", \n",
    "            avg_monthly_rent, health_care_and_social_assistance/land_area as \"health_to_land\", \n",
    "            (primary_count + secondary_count + future_count)/land_area as \"catchments_to_land\", \n",
    "            young_people/land_area as \"young_area\", \n",
    "            parkingperkmsq/land_area as \"parking_area\",\n",
    "            (SELECT SUM(crime)\n",
    "             FROM CrimeCount c \n",
    "             WHERE s.sa2_name16 = c.sa2_name16) as \"total_crime\"\n",
    "    FROM sa2_scores_syd s JOIN neighbours n ON n.area_name = s.sa2_name16 \n",
    "        JOIN busstat b ON b.area_name = n.area_name \n",
    "        JOIN parking_ratio p ON n.area_name = p.sa2_name16 \n",
    "        JOIN catchment_count cc ON n.area_name = cc.sa2_name16\n",
    "''', conn)\n",
    "\n",
    "from sklearn.neighbors import KNeighborsRegressor\n",
    "from sklearn.model_selection import train_test_split\n",
    "from sklearn.model_selection import GridSearchCV\n",
    "\n",
    "# Data\n",
    "df_data = df.drop(df.columns[[0, 1]], axis=1)  # df.columns is zero-based pd.Index\n",
    "df_data = df_data.to_numpy()\n",
    "\n",
    "score = df['score'].to_numpy()\n",
    "\n",
    "# Split data into training and test set\n",
    "X_train, X_test, y_train, y_test = train_test_split(\n",
    "    df_data, score, random_state=0)\n",
    "\n",
    "# Normalise the data\n",
    "# Calculate min and max based on the training data, use them on the test data\n",
    "from sklearn.preprocessing import MinMaxScaler\n",
    "scaler = MinMaxScaler()\n",
    "scaler.fit(X_train)\n",
    "\n",
    "X_train_norm = scaler.transform(X_train)\n",
    "X_test_norm = scaler.transform(X_test) \n",
    "\n",
    "# Define grid search parameters for KNN\n",
    "# k - number of nearest neighbors\n",
    "# p - distance measure, p=2: Euclidean, p=1: Manhattan\n",
    "param_grid = {'n_neighbors': [1, 3, 5],\n",
    "              'p': [1, 2]}\n",
    "print(\"Parameter grid:\\n{}\".format(param_grid))\n",
    "\n",
    "# Use grid search with cross validation to find the best set of parameters\n",
    "# Uses 7 fold cross validation (7 samples in training data)\n",
    "grid_search = GridSearchCV(KNeighborsRegressor(), param_grid, cv=7,\n",
    "                          return_train_score=True, scoring='neg_mean_squared_error')\n",
    " \n",
    "# Find the best model parameters on training set using mean squared error\n",
    "grid_search.fit(X_train, y_train)\n",
    "\n",
    "print(\"Best parameters: {}\".format(grid_search.best_params_))\n",
    "print(\"Best cross validation score on training set: {:.2f}\".format(grid_search.best_score_*-1))\n",
    "\n",
    "# Use the best parameters to evaluate model performance on test set\n",
    "print(\"Score on test set with best parameters: {:.2f}\".format(grid_search.score(X_test, y_test)*-1))\n"
   ]
  },
  {
   "cell_type": "markdown",
   "id": "091ec046",
   "metadata": {},
   "source": [
    "## Closing Connection"
   ]
  },
  {
   "cell_type": "code",
   "execution_count": 184,
   "id": "f6fc10db",
   "metadata": {},
   "outputs": [],
   "source": [
    "conn.close()\n",
    "db.dispose()"
   ]
  }
 ],
 "metadata": {
  "kernelspec": {
   "display_name": "Python 3 (ipykernel)",
   "language": "python",
   "name": "python3"
  },
  "language_info": {
   "codemirror_mode": {
    "name": "ipython",
    "version": 3
   },
   "file_extension": ".py",
   "mimetype": "text/x-python",
   "name": "python",
   "nbconvert_exporter": "python",
   "pygments_lexer": "ipython3",
   "version": "3.9.7"
  }
 },
 "nbformat": 4,
 "nbformat_minor": 5
}
